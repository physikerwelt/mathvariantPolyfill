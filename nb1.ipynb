{
 "metadata": {
  "kernelspec": {
   "name": "python3",
   "display_name": "Python 3 (ipykernel)",
   "language": "python"
  },
  "language_info": {
   "name": "python",
   "version": "3.10.16",
   "mimetype": "text/x-python",
   "codemirror_mode": {
    "name": "ipython",
    "version": 3
   },
   "pygments_lexer": "ipython3",
   "nbconvert_exporter": "python",
   "file_extension": ".py"
  }
 },
 "nbformat_minor": 5,
 "nbformat": 4,
 "cells": [
  {
   "metadata": {
    "ExecuteTime": {
     "end_time": "2025-06-19T15:32:06.752680Z",
     "start_time": "2025-06-19T15:32:05.101622Z"
    }
   },
   "cell_type": "code",
   "source": "!pipx install requests",
   "id": "4579d56cad4ec271",
   "outputs": [
    {
     "name": "stdout",
     "output_type": "stream",
     "text": [
      "\u001B[K⣯ installing requestsvironmentNote: Dependent package 'charset-normalizer' contains 1 apps\r\n",
      "  - normalizer\r\n",
      "\r\n",
      "No apps associated with package requests. Try again with '--include-deps' to\r\n",
      "include apps of dependent packages, which are listed above. If you are\r\n",
      "attempting to install a library, pipx should not be used. Consider using pip\r\n",
      "or a similar tool instead.\r\n",
      "\u001B[?25h"
     ]
    }
   ],
   "execution_count": 1
  },
  {
   "metadata": {
    "ExecuteTime": {
     "end_time": "2025-06-19T15:35:11.984675Z",
     "start_time": "2025-06-19T15:35:11.674298Z"
    }
   },
   "cell_type": "code",
   "source": [
    "import requests\n",
    "\n",
    "# Step 1: Download the XML file\n",
    "xml_url = \"https://raw.githubusercontent.com/w3c/xml-entities/refs/heads/gh-pages/unicode.xml\"\n",
    "xml_file_path = \"unicode.xml\"\n",
    "\n",
    "# Download XML\n",
    "response = requests.get(xml_url)\n",
    "with open(xml_file_path, 'wb') as file:\n",
    "    file.write(response.content)\n",
    "\n",
    "print(f\"XML file downloaded to {xml_file_path}\")\n",
    "\n"
   ],
   "id": "f94c30ae-1796-4311-814e-6a0276475ce8",
   "outputs": [
    {
     "name": "stdout",
     "output_type": "stream",
     "text": [
      "XML file downloaded to unicode.xml\n"
     ]
    }
   ],
   "execution_count": 3
  },
  {
   "metadata": {
    "ExecuteTime": {
     "end_time": "2025-06-19T15:35:39.661683Z",
     "start_time": "2025-06-19T15:35:38.577484Z"
    }
   },
   "cell_type": "code",
   "source": "! basex uncompressed.xq > surrogate_mapping.csv\n",
   "id": "3a70e1c1004e5b3a",
   "outputs": [],
   "execution_count": 5
  },
  {
   "metadata": {},
   "cell_type": "code",
   "outputs": [],
   "execution_count": null,
   "source": "",
   "id": "9b8a4e7874ce25e7"
  }
 ]
}
